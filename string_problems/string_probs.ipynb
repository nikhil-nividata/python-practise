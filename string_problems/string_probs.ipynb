{
 "cells": [
  {
   "cell_type": "code",
   "execution_count": 8,
   "metadata": {},
   "outputs": [
    {
     "name": "stdout",
     "output_type": "stream",
     "text": [
      "False\n"
     ]
    }
   ],
   "source": [
    "# 1. Python Program to check if a string is palindrome\n",
    "\n",
    "def is_palindrome(inp_str):\n",
    "    i = 1\n",
    "    while i < len(inp_str)//2:\n",
    "        if (inp_str[i-1] != inp_str[-i]):\n",
    "            return False\n",
    "        i+=1\n",
    "    return True\n",
    "\n",
    "print(is_palindrome(\"geeks\"))\n"
   ]
  },
  {
   "cell_type": "code",
   "execution_count": 12,
   "metadata": {},
   "outputs": [
    {
     "name": "stdout",
     "output_type": "stream",
     "text": [
      "True\n"
     ]
    }
   ],
   "source": [
    "# 2. Python Program to check if a string is symmetric\n",
    "\n",
    "def is_symmetric(inp_str):\n",
    "    return inp_str[:len(inp_str)//2] == inp_str[len(inp_str)//2:]\n",
    "\n",
    "print(is_symmetric(\"amaama\"))"
   ]
  },
  {
   "cell_type": "code",
   "execution_count": 16,
   "metadata": {},
   "outputs": [
    {
     "name": "stdout",
     "output_type": "stream",
     "text": [
      "Python Learns Nikhil\n"
     ]
    }
   ],
   "source": [
    "# 3. Python Program to reverse the words of a string\n",
    "\n",
    "def reverse_word(inp_str):\n",
    "    word_list = inp_str.split()\n",
    "    word_list.reverse()\n",
    "    return \" \".join(word_list)\n",
    "\n",
    "print(reverse_word(\"Nikhil Learns Python\"))"
   ]
  },
  {
   "cell_type": "code",
   "execution_count": 20,
   "metadata": {},
   "outputs": [
    {
     "data": {
      "text/plain": [
       "['aa', 'aaaa']"
      ]
     },
     "execution_count": 20,
     "metadata": {},
     "output_type": "execute_result"
    }
   ],
   "source": [
    "# 4. Python Program to print Strings with only even length\n",
    "\n",
    "def print_even_length(inp_str):\n",
    "    return [x for x in inp_str.split() if len(x) %2 ==0]\n",
    "\n",
    "print_even_length(\"a aa aaa aaaa\")"
   ]
  },
  {
   "cell_type": "code",
   "execution_count": 23,
   "metadata": {},
   "outputs": [
    {
     "name": "stdout",
     "output_type": "stream",
     "text": [
      "True\n"
     ]
    }
   ],
   "source": [
    "# 5 Python Program to check if a String contains all vowels\n",
    "\n",
    "def conatins_all_vowels(inp_str):\n",
    "    vowel_tuples=[\n",
    "        ('a','A'),\n",
    "        ('e','E'),\n",
    "        ('i','I'),\n",
    "        ('o','O'),\n",
    "        ('u','U')\n",
    "    ]\n",
    "    vowel_map = {\n",
    "        'a':False,\n",
    "        'e':False,\n",
    "        'i':False,\n",
    "        'o':False,\n",
    "        'u':False\n",
    "    }\n",
    "    for small ,caps in vowel_tuples:\n",
    "        if small in inp_str or caps in inp_str:\n",
    "            vowel_map[small]= True\n",
    "    if False in vowel_map.values():\n",
    "        return False\n",
    "    return True\n",
    "\n",
    "print(conatins_all_vowels(\"ABeeIghiObhkUul\"))\n"
   ]
  },
  {
   "cell_type": "code",
   "execution_count": 38,
   "metadata": {},
   "outputs": [
    {
     "name": "stdout",
     "output_type": "stream",
     "text": [
      "4\n"
     ]
    }
   ],
   "source": [
    "# 6 Python Program to count the number of matching characters in two strings\n",
    "\n",
    "def count_matching(string1,string2):\n",
    "    common = set()\n",
    "    for c in string1:\n",
    "        if c in string2:\n",
    "            common.add(c)\n",
    "    return len(common)\n",
    "\n",
    "def count_matching_set_ins(string1,string2):\n",
    "    set1 = set(string1)\n",
    "    set2 = set(string2)\n",
    "    return len(set1.intersection(set2))\n",
    "    \n",
    "\n",
    "print(count_matching_set_ins('aabcddekll12','bb22ll@55k'))"
   ]
  },
  {
   "cell_type": "code",
   "execution_count": 42,
   "metadata": {},
   "outputs": [
    {
     "name": "stdout",
     "output_type": "stream",
     "text": [
      "Nikhl\n"
     ]
    }
   ],
   "source": [
    "# 7 Python Program to remove duplicates from the string\n",
    "\n",
    "def remove_duplicates(inp_str):\n",
    "    str_set = set(inp_str)\n",
    "    return \"\".join(str_set)\n",
    "\n",
    "def remove_duplicates_ordered(inp_str):\n",
    "    from collections import OrderedDict\n",
    "    return \"\".join(OrderedDict.fromkeys(inp_str))\n",
    "\n",
    "print(remove_duplicates_ordered(\"Nikhil\"))"
   ]
  },
  {
   "cell_type": "code",
   "execution_count": 47,
   "metadata": {},
   "outputs": [
    {
     "name": "stdout",
     "output_type": "stream",
     "text": [
      "['N', 'i']\n"
     ]
    }
   ],
   "source": [
    "# Python Program to get the word with minimum frequency\n",
    "\n",
    "def frequencies(inp_str):\n",
    "    from collections import Counter\n",
    "    res = Counter(inp_str)\n",
    "    return [min(res,key=res.get),max(res,key=res.get)]\n",
    "\n",
    "print(frequencies(\"Nikhil\"))"
   ]
  },
  {
   "cell_type": "code",
   "execution_count": 59,
   "metadata": {},
   "outputs": [],
   "source": [
    "# Randomly Generate strings until required string is formed\n",
    "\n",
    "def generate(required_string):\n",
    "    from random import choice\n",
    "    from string import ascii_letters,digits\n",
    "    possible_characters = ' ., !?;:' + ascii_letters + digits\n",
    "    iterations = 0\n",
    "    generated = [\n",
    "        choice(possible_characters)\n",
    "        for i in range(len(required_string))\n",
    "    ]\n",
    "    while True:\n",
    "        print(\"\".join(generated))\n",
    "        for i in range(len(required_string)):\n",
    "            if generated[i] != required_string[i]:\n",
    "                generated[i] = choice(possible_characters)\n",
    "        iterations += 1\n",
    "        if required_string == \"\".join(generated):\n",
    "            break\n",
    "    print(\"\".join(generated))\n",
    "    return iterations\n",
    "\n",
    "print(generate(\"Nikhil\"))"
   ]
  },
  {
   "cell_type": "code",
   "execution_count": 66,
   "metadata": {},
   "outputs": [
    {
     "name": "stdout",
     "output_type": "stream",
     "text": [
      "Gfg is best . It also has Classes now. They help understand better .\n"
     ]
    }
   ],
   "source": [
    "# Replace Duplicate Occurance of words\n",
    "\n",
    "def replace_dups(input_string, replacements):\n",
    "    words = input_string.split()\n",
    "    dups = set()\n",
    "    for index , word in enumerate(words):\n",
    "        if word in replacements:\n",
    "            if word in dups:\n",
    "                words[index] = replacements[word]\n",
    "            else:\n",
    "                dups.add(word)\n",
    "    return \" \".join(words)\n",
    "\n",
    "print(\n",
    "    replace_dups(\"Gfg is best . Gfg also has Classes now. Classes help understand better . \", \n",
    "     {'Gfg' :  'It', 'Classes' : 'They' }\n",
    "     ))"
   ]
  },
  {
   "cell_type": "code",
   "execution_count": 68,
   "metadata": {},
   "outputs": [
    {
     "name": "stdout",
     "output_type": "stream",
     "text": [
      "Geeksforgeeks is gfg gfg geeks and gfg\n"
     ]
    }
   ],
   "source": [
    "# Replace Multiple words with another word\n",
    "\n",
    "def replace_multi_words(input_string , replacees, replacement):\n",
    "    words  = input_string.split()\n",
    "    for index,word in enumerate(words):\n",
    "        if word in replacees:\n",
    "            words[index] = replacement\n",
    "    return \" \".join(words)\n",
    "\n",
    "print(\n",
    "    replace_multi_words(\n",
    "        \"Geeksforgeeks is best for geeks and CS\",\n",
    "        [\"best\", 'CS', 'for'],\n",
    "        \"gfg\"\n",
    "    )\n",
    ")\n"
   ]
  },
  {
   "cell_type": "code",
   "execution_count": 76,
   "metadata": {},
   "outputs": [
    {
     "name": "stdout",
     "output_type": "stream",
     "text": [
      "['ABCD', 'ABDC', 'ACBD', 'ACDB', 'ADBC', 'ADCB', 'BACD', 'BADC', 'BCAD', 'BCDA', 'BDAC', 'BDCA', 'CABD', 'CADB', 'CBAD', 'CBDA', 'CDAB', 'CDBA', 'DABC', 'DACB', 'DBAC', 'DBCA', 'DCAB', 'DCBA']\n"
     ]
    }
   ],
   "source": [
    "# Permutation of String\n",
    "\n",
    "def permutate_string(input_string):\n",
    "    from itertools import permutations\n",
    "    return [\n",
    "        \"\".join(perm)\n",
    "        for perm in permutations(input_string)\n",
    "    ]\n",
    "\n",
    "print(permutate_string(\"ABCD\"))"
   ]
  },
  {
   "cell_type": "code",
   "execution_count": 81,
   "metadata": {},
   "outputs": [
    {
     "name": "stdout",
     "output_type": "stream",
     "text": [
      "True\n"
     ]
    }
   ],
   "source": [
    "# Can string become empty by Substring Deletion\n",
    "\n",
    "def check_it(input_string , sub_string):\n",
    "    while True:\n",
    "        if sub_string in input_string:\n",
    "            index = input_string.index(sub_string)\n",
    "            input_string = input_string[:index] + input_string[index + len(sub_string):]\n",
    "        else:\n",
    "            break\n",
    "    if input_string == \"\":\n",
    "        return True\n",
    "    return False\n",
    "\n",
    "print(check_it(\"GEEGEEKSKS\",\"GEEKS\"))"
   ]
  }
 ],
 "metadata": {
  "kernelspec": {
   "display_name": "Python 3",
   "language": "python",
   "name": "python3"
  },
  "language_info": {
   "codemirror_mode": {
    "name": "ipython",
    "version": 3
   },
   "file_extension": ".py",
   "mimetype": "text/x-python",
   "name": "python",
   "nbconvert_exporter": "python",
   "pygments_lexer": "ipython3",
   "version": "3.8.5"
  }
 },
 "nbformat": 4,
 "nbformat_minor": 4
}
